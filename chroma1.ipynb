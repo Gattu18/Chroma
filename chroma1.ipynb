{
 "cells": [
  {
   "cell_type": "code",
   "execution_count": 6,
   "id": "0a217be8-de4e-46da-aa41-329da5efc6c5",
   "metadata": {},
   "outputs": [],
   "source": [
    "import chromadb\n",
    "import os\n",
    "from dotenv import load_dotenv\n"
   ]
  },
  {
   "cell_type": "code",
   "execution_count": 7,
   "id": "f530e287-a343-4877-83a1-34983b326595",
   "metadata": {},
   "outputs": [
    {
     "name": "stdout",
     "output_type": "stream",
     "text": [
      "0.6.3\n"
     ]
    }
   ],
   "source": [
    "print(chromadb.__version__)"
   ]
  },
  {
   "cell_type": "code",
   "execution_count": 8,
   "id": "1298253f-df7d-42c8-b9b4-24c68ad6eb5a",
   "metadata": {},
   "outputs": [],
   "source": [
    "client=chromadb.Client()"
   ]
  },
  {
   "cell_type": "code",
   "execution_count": 9,
   "id": "e8f43891-2929-421f-8665-24c5b0049680",
   "metadata": {},
   "outputs": [],
   "source": [
    "#collection=client.get_or_create_collection(name=\"documents\")"
   ]
  },
  {
   "cell_type": "code",
   "execution_count": 10,
   "id": "ded39606-7176-4606-8708-b9f2f3e71463",
   "metadata": {},
   "outputs": [
    {
     "data": {
      "text/plain": [
       "'collection.add(\\n    documents=[\"This is apples\",\"This is Bananas\"],\\nids=[\"id1\",\"id2\"])'"
      ]
     },
     "execution_count": 10,
     "metadata": {},
     "output_type": "execute_result"
    }
   ],
   "source": [
    "'''collection.add(\n",
    "    documents=[\"This is apples\",\"This is Bananas\"],\n",
    "ids=[\"id1\",\"id2\"])'''"
   ]
  },
  {
   "cell_type": "code",
   "execution_count": 11,
   "id": "512eaba6-c22e-4552-8781-b085ef40e020",
   "metadata": {},
   "outputs": [
    {
     "data": {
      "text/plain": [
       "'from pprint import pprint\\nresults=collection.query(\\n    query_texts=[\"This is a query about Hawaii\"],\\n    n_results=2,\\n    where_document={\\'$contains\\':\"apples\"}\\n            )\\npprint(results)'"
      ]
     },
     "execution_count": 11,
     "metadata": {},
     "output_type": "execute_result"
    }
   ],
   "source": [
    "'''from pprint import pprint\n",
    "results=collection.query(\n",
    "    query_texts=[\"This is a query about Hawaii\"],\n",
    "    n_results=2,\n",
    "    where_document={'$contains':\"apples\"}\n",
    "            )\n",
    "pprint(results)'''"
   ]
  },
  {
   "cell_type": "code",
   "execution_count": 12,
   "id": "7f096fd5-b87b-4c80-9be4-8601d5fe3bb8",
   "metadata": {},
   "outputs": [],
   "source": [
    "import polars as pl"
   ]
  },
  {
   "cell_type": "code",
   "execution_count": 13,
   "id": "11553ddb-de4d-42e7-b518-239d955e572d",
   "metadata": {},
   "outputs": [
    {
     "name": "stdout",
     "output_type": "stream",
     "text": [
      "shape: (5, 5)\n",
      "┌───────┬──────────────────────┬──────────┬─────────────────────┬──────────┐\n",
      "│ index ┆ Article              ┆ Date     ┆ Heading             ┆ NewsType │\n",
      "│ ---   ┆ ---                  ┆ ---      ┆ ---                 ┆ ---      │\n",
      "│ u32   ┆ str                  ┆ str      ┆ str                 ┆ str      │\n",
      "╞═══════╪══════════════════════╪══════════╪═════════════════════╪══════════╡\n",
      "│ 1     ┆ KARACHI: The Sindh   ┆ 1/1/2015 ┆ sindh govt decides  ┆ business │\n",
      "│       ┆ government …         ┆          ┆ to cut publ…        ┆          │\n",
      "│ 2     ┆ HONG KONG: Asian     ┆ 1/2/2015 ┆ asia stocks up in   ┆ business │\n",
      "│       ┆ markets start…       ┆          ┆ new year tra…       ┆          │\n",
      "│ 3     ┆ HONG KONG:  Hong     ┆ 1/5/2015 ┆ hong kong stocks    ┆ business │\n",
      "│       ┆ Kong shares o…       ┆          ┆ open 0.66 per…      ┆          │\n",
      "│ 4     ┆ HONG KONG: Asian     ┆ 1/6/2015 ┆ asian stocks sink   ┆ business │\n",
      "│       ┆ markets tumbl…       ┆          ┆ euro near ni…       ┆          │\n",
      "│ 5     ┆ NEW YORK: US oil     ┆ 1/6/2015 ┆ us oil prices slip  ┆ business │\n",
      "│       ┆ prices Monday…       ┆          ┆ below 50 a …        ┆          │\n",
      "└───────┴──────────────────────┴──────────┴─────────────────────┴──────────┘\n"
     ]
    }
   ],
   "source": [
    "#articles=pl.read_csv('./Articles.csv',encoding='ISO-8859-1')\n",
    "#articles.head()\n",
    "articles = pl.read_csv('Articles.csv', encoding='ISO-8859-1').with_row_index(offset=1)\n",
    "print(articles.head())"
   ]
  },
  {
   "cell_type": "code",
   "execution_count": 14,
   "id": "c63ddd87-3880-4124-a34a-5c03f1cc567d",
   "metadata": {},
   "outputs": [],
   "source": [
    "import openai"
   ]
  },
  {
   "cell_type": "code",
   "execution_count": 15,
   "id": "6ba56827-6955-46a1-a305-6b2329201648",
   "metadata": {},
   "outputs": [],
   "source": [
    "import chromadb.utils.embedding_functions as embedding_functions\n",
    "openai_ef=embedding_functions.OpenAIEmbeddingFunction(\n",
    "    api_key=os.getenv(\"API_KEY\"),\n",
    "    model_name=\"text-embedding-ada-002\"\n",
    ")"
   ]
  },
  {
   "cell_type": "code",
   "execution_count": 16,
   "id": "98b20923-cf42-4794-ad9d-fed88b70712d",
   "metadata": {},
   "outputs": [
    {
     "data": {
      "text/html": [
       "<div><style>\n",
       ".dataframe > thead > tr,\n",
       ".dataframe > tbody > tr {\n",
       "  text-align: right;\n",
       "  white-space: pre-wrap;\n",
       "}\n",
       "</style>\n",
       "<small>shape: (2_692, 5)</small><table border=\"1\" class=\"dataframe\"><thead><tr><th>index</th><th>Article</th><th>Date</th><th>Heading</th><th>NewsType</th></tr><tr><td>u32</td><td>str</td><td>str</td><td>str</td><td>str</td></tr></thead><tbody><tr><td>1</td><td>&quot;KARACHI: The Sindh government …</td><td>&quot;1/1/2015&quot;</td><td>&quot;sindh govt decides to cut publ…</td><td>&quot;business&quot;</td></tr><tr><td>2</td><td>&quot;HONG KONG: Asian markets start…</td><td>&quot;1/2/2015&quot;</td><td>&quot;asia stocks up in new year tra…</td><td>&quot;business&quot;</td></tr><tr><td>3</td><td>&quot;HONG KONG:&nbsp;&nbsp;Hong Kong shares o…</td><td>&quot;1/5/2015&quot;</td><td>&quot;hong kong stocks open 0.66 per…</td><td>&quot;business&quot;</td></tr><tr><td>4</td><td>&quot;HONG KONG: Asian markets tumbl…</td><td>&quot;1/6/2015&quot;</td><td>&quot;asian stocks sink euro near ni…</td><td>&quot;business&quot;</td></tr><tr><td>5</td><td>&quot;NEW YORK: US oil prices Monday…</td><td>&quot;1/6/2015&quot;</td><td>&quot;us oil prices slip below 50 a …</td><td>&quot;business&quot;</td></tr><tr><td>&hellip;</td><td>&hellip;</td><td>&hellip;</td><td>&hellip;</td><td>&hellip;</td></tr><tr><td>2688</td><td>&quot;strong&gt;DUBAI: Dubai Internatio…</td><td>&quot;3/25/2017&quot;</td><td>&quot;Laptop ban hits Dubai for 11m …</td><td>&quot;business&quot;</td></tr><tr><td>2689</td><td>&quot;strong&gt;BEIJING: Former Prime M…</td><td>&quot;3/26/2017&quot;</td><td>&quot;Pak China relations not agains…</td><td>&quot;business&quot;</td></tr><tr><td>2690</td><td>&quot;strong&gt;WASHINGTON: Uber has gr…</td><td>&quot;3/26/2017&quot;</td><td>&quot;Uber grounds self driving cars…</td><td>&quot;business&quot;</td></tr><tr><td>2691</td><td>&quot;strong&gt;BEIJING: The New Develo…</td><td>&quot;3/27/2017&quot;</td><td>&quot;New Development Bank plans joi…</td><td>&quot;business&quot;</td></tr><tr><td>2692</td><td>&quot;strong&gt;KARACHI: Karachi-based …</td><td>&quot;3/27/2017&quot;</td><td>&quot;Google powered Startup Weekend…</td><td>&quot;business&quot;</td></tr></tbody></table></div>"
      ],
      "text/plain": [
       "shape: (2_692, 5)\n",
       "┌───────┬─────────────────────┬───────────┬─────────────────────┬──────────┐\n",
       "│ index ┆ Article             ┆ Date      ┆ Heading             ┆ NewsType │\n",
       "│ ---   ┆ ---                 ┆ ---       ┆ ---                 ┆ ---      │\n",
       "│ u32   ┆ str                 ┆ str       ┆ str                 ┆ str      │\n",
       "╞═══════╪═════════════════════╪═══════════╪═════════════════════╪══════════╡\n",
       "│ 1     ┆ KARACHI: The Sindh  ┆ 1/1/2015  ┆ sindh govt decides  ┆ business │\n",
       "│       ┆ government …        ┆           ┆ to cut publ…        ┆          │\n",
       "│ 2     ┆ HONG KONG: Asian    ┆ 1/2/2015  ┆ asia stocks up in   ┆ business │\n",
       "│       ┆ markets start…      ┆           ┆ new year tra…       ┆          │\n",
       "│ 3     ┆ HONG KONG:  Hong    ┆ 1/5/2015  ┆ hong kong stocks    ┆ business │\n",
       "│       ┆ Kong shares o…      ┆           ┆ open 0.66 per…      ┆          │\n",
       "│ 4     ┆ HONG KONG: Asian    ┆ 1/6/2015  ┆ asian stocks sink   ┆ business │\n",
       "│       ┆ markets tumbl…      ┆           ┆ euro near ni…       ┆          │\n",
       "│ 5     ┆ NEW YORK: US oil    ┆ 1/6/2015  ┆ us oil prices slip  ┆ business │\n",
       "│       ┆ prices Monday…      ┆           ┆ below 50 a …        ┆          │\n",
       "│ …     ┆ …                   ┆ …         ┆ …                   ┆ …        │\n",
       "│ 2688  ┆ strong>DUBAI: Dubai ┆ 3/25/2017 ┆ Laptop ban hits     ┆ business │\n",
       "│       ┆ Internatio…         ┆           ┆ Dubai for 11m …     ┆          │\n",
       "│ 2689  ┆ strong>BEIJING:     ┆ 3/26/2017 ┆ Pak China relations ┆ business │\n",
       "│       ┆ Former Prime M…     ┆           ┆ not agains…         ┆          │\n",
       "│ 2690  ┆ strong>WASHINGTON:  ┆ 3/26/2017 ┆ Uber grounds self   ┆ business │\n",
       "│       ┆ Uber has gr…        ┆           ┆ driving cars…       ┆          │\n",
       "│ 2691  ┆ strong>BEIJING: The ┆ 3/27/2017 ┆ New Development     ┆ business │\n",
       "│       ┆ New Develo…         ┆           ┆ Bank plans joi…     ┆          │\n",
       "│ 2692  ┆ strong>KARACHI:     ┆ 3/27/2017 ┆ Google powered      ┆ business │\n",
       "│       ┆ Karachi-based …     ┆           ┆ Startup Weekend…    ┆          │\n",
       "└───────┴─────────────────────┴───────────┴─────────────────────┴──────────┘"
      ]
     },
     "execution_count": 16,
     "metadata": {},
     "output_type": "execute_result"
    }
   ],
   "source": [
    "articles"
   ]
  },
  {
   "cell_type": "code",
   "execution_count": 17,
   "id": "02b86f22-0b49-41af-8d80-74294d0b3f0b",
   "metadata": {},
   "outputs": [],
   "source": [
    "articles=articles[:50]"
   ]
  },
  {
   "cell_type": "code",
   "execution_count": 27,
   "id": "848046c6-6a8c-4258-b161-4f7632787c9b",
   "metadata": {},
   "outputs": [
    {
     "data": {
      "text/html": [
       "<div><style>\n",
       ".dataframe > thead > tr,\n",
       ".dataframe > tbody > tr {\n",
       "  text-align: right;\n",
       "  white-space: pre-wrap;\n",
       "}\n",
       "</style>\n",
       "<small>shape: (50, 5)</small><table border=\"1\" class=\"dataframe\"><thead><tr><th>index</th><th>Article</th><th>Date</th><th>Heading</th><th>NewsType</th></tr><tr><td>u32</td><td>str</td><td>str</td><td>str</td><td>str</td></tr></thead><tbody><tr><td>1</td><td>&quot;KARACHI: The Sindh government …</td><td>&quot;1/1/2015&quot;</td><td>&quot;sindh govt decides to cut publ…</td><td>&quot;business&quot;</td></tr><tr><td>2</td><td>&quot;HONG KONG: Asian markets start…</td><td>&quot;1/2/2015&quot;</td><td>&quot;asia stocks up in new year tra…</td><td>&quot;business&quot;</td></tr><tr><td>3</td><td>&quot;HONG KONG:&nbsp;&nbsp;Hong Kong shares o…</td><td>&quot;1/5/2015&quot;</td><td>&quot;hong kong stocks open 0.66 per…</td><td>&quot;business&quot;</td></tr><tr><td>4</td><td>&quot;HONG KONG: Asian markets tumbl…</td><td>&quot;1/6/2015&quot;</td><td>&quot;asian stocks sink euro near ni…</td><td>&quot;business&quot;</td></tr><tr><td>5</td><td>&quot;NEW YORK: US oil prices Monday…</td><td>&quot;1/6/2015&quot;</td><td>&quot;us oil prices slip below 50 a …</td><td>&quot;business&quot;</td></tr><tr><td>&hellip;</td><td>&hellip;</td><td>&hellip;</td><td>&hellip;</td><td>&hellip;</td></tr><tr><td>46</td><td>&quot;Karachi: Microsoft Devices Pak…</td><td>&quot;2/12/2015&quot;</td><td>&quot;nokia 215 dual sim launched in…</td><td>&quot;business&quot;</td></tr><tr><td>47</td><td>&quot;ISLAMABAD: Federal Finance Min…</td><td>&quot;2/12/2015&quot;</td><td>&quot;cnic number now tax number onl…</td><td>&quot;business&quot;</td></tr><tr><td>48</td><td>&quot;ISLAMABAD: Government has put …</td><td>&quot;2/12/2015&quot;</td><td>&quot;govt imposes new taxes of rs4 …</td><td>&quot;business&quot;</td></tr><tr><td>49</td><td>&quot;Singapore: Oil prices edged hi…</td><td>&quot;2/12/2015&quot;</td><td>&quot;oil prices rise in asian trad&quot;</td><td>&quot;business&quot;</td></tr><tr><td>50</td><td>&quot;London: World oil prices rose …</td><td>&quot;2/13/2015&quot;</td><td>&quot;oil prices extend gai&quot;</td><td>&quot;business&quot;</td></tr></tbody></table></div>"
      ],
      "text/plain": [
       "shape: (50, 5)\n",
       "┌───────┬─────────────────────┬───────────┬─────────────────────┬──────────┐\n",
       "│ index ┆ Article             ┆ Date      ┆ Heading             ┆ NewsType │\n",
       "│ ---   ┆ ---                 ┆ ---       ┆ ---                 ┆ ---      │\n",
       "│ u32   ┆ str                 ┆ str       ┆ str                 ┆ str      │\n",
       "╞═══════╪═════════════════════╪═══════════╪═════════════════════╪══════════╡\n",
       "│ 1     ┆ KARACHI: The Sindh  ┆ 1/1/2015  ┆ sindh govt decides  ┆ business │\n",
       "│       ┆ government …        ┆           ┆ to cut publ…        ┆          │\n",
       "│ 2     ┆ HONG KONG: Asian    ┆ 1/2/2015  ┆ asia stocks up in   ┆ business │\n",
       "│       ┆ markets start…      ┆           ┆ new year tra…       ┆          │\n",
       "│ 3     ┆ HONG KONG:  Hong    ┆ 1/5/2015  ┆ hong kong stocks    ┆ business │\n",
       "│       ┆ Kong shares o…      ┆           ┆ open 0.66 per…      ┆          │\n",
       "│ 4     ┆ HONG KONG: Asian    ┆ 1/6/2015  ┆ asian stocks sink   ┆ business │\n",
       "│       ┆ markets tumbl…      ┆           ┆ euro near ni…       ┆          │\n",
       "│ 5     ┆ NEW YORK: US oil    ┆ 1/6/2015  ┆ us oil prices slip  ┆ business │\n",
       "│       ┆ prices Monday…      ┆           ┆ below 50 a …        ┆          │\n",
       "│ …     ┆ …                   ┆ …         ┆ …                   ┆ …        │\n",
       "│ 46    ┆ Karachi: Microsoft  ┆ 2/12/2015 ┆ nokia 215 dual sim  ┆ business │\n",
       "│       ┆ Devices Pak…        ┆           ┆ launched in…        ┆          │\n",
       "│ 47    ┆ ISLAMABAD: Federal  ┆ 2/12/2015 ┆ cnic number now tax ┆ business │\n",
       "│       ┆ Finance Min…        ┆           ┆ number onl…         ┆          │\n",
       "│ 48    ┆ ISLAMABAD:          ┆ 2/12/2015 ┆ govt imposes new    ┆ business │\n",
       "│       ┆ Government has put  ┆           ┆ taxes of rs4 …      ┆          │\n",
       "│       ┆ …                   ┆           ┆                     ┆          │\n",
       "│ 49    ┆ Singapore: Oil      ┆ 2/12/2015 ┆ oil prices rise in  ┆ business │\n",
       "│       ┆ prices edged hi…    ┆           ┆ asian trad          ┆          │\n",
       "│ 50    ┆ London: World oil   ┆ 2/13/2015 ┆ oil prices extend   ┆ business │\n",
       "│       ┆ prices rose …       ┆           ┆ gai                 ┆          │\n",
       "└───────┴─────────────────────┴───────────┴─────────────────────┴──────────┘"
      ]
     },
     "execution_count": 27,
     "metadata": {},
     "output_type": "execute_result"
    }
   ],
   "source": [
    "articles"
   ]
  },
  {
   "cell_type": "code",
   "execution_count": 19,
   "id": "6cca0003-ac1a-43a9-93ac-cb4ce3031fd6",
   "metadata": {},
   "outputs": [],
   "source": [
    "articles_list=articles['Article'[:]].to_list()\n",
    "vectors=openai_ef(articles_list)"
   ]
  },
  {
   "cell_type": "code",
   "execution_count": 20,
   "id": "914c5f88-7872-4ed0-bec4-4a5a72e89a2d",
   "metadata": {},
   "outputs": [],
   "source": [
    "ids=[f\"id{x}\" for x in articles['index'][:].to_list()]\n"
   ]
  },
  {
   "cell_type": "code",
   "execution_count": 21,
   "id": "6ed71b73-64fb-47dc-946e-0dbf9f55ead2",
   "metadata": {},
   "outputs": [],
   "source": [
    "collection=client.get_or_create_collection(name=\"articles\")"
   ]
  },
  {
   "cell_type": "code",
   "execution_count": 22,
   "id": "81eeed0d-5167-48f9-b196-814913147b11",
   "metadata": {},
   "outputs": [],
   "source": [
    "# Use upsert to either insert or update the embedding with the same ID\n",
    "collection.upsert(\n",
    "    documents=articles_list,\n",
    "    ids=ids,\n",
    "    embeddings=vectors,\n",
    ")"
   ]
  },
  {
   "cell_type": "code",
   "execution_count": 23,
   "id": "e64a066d-5c89-4862-bcd8-9eca09cf3aac",
   "metadata": {},
   "outputs": [
    {
     "data": {
      "text/plain": [
       "'HONG KONG: Asian markets started 2015 on an upswing in limited trading on Friday, with mainland Chinese stocks surging in Hong Kong on speculation Beijing may ease monetary policy to boost slowing growth.Hong Kong rose 1.07 percent, closing 252.78 points higher at 23857.82.Seoul closed up 0.57 percent, rising 10.85 points to 1,926.44, while Sydney gained 0.46 percent, or 24.89 points, to close at 5,435.9.Singapore edged up 0.19 percent, gaining 6.39 points to 3,371.54.Markets in mainland China, Japan, Taiwan, New Zealand, the Philippines, and Thailand remained closed for holidays.With mainland bourses shut until January 5, shares in Chinese developers and financial companies surged in Hong Kong, stoked by hopes that Beijing could ease monetary policy to support lagging growth in the world´s second-largest economy.China Vanke, the country´s biggest developer by sales, leapt 10.8 percent and the People´s Insurance Company (Group) of China Ltd. was up 5.51 percent in afternoon trading.Train-builders CSR Corp. and China CNR Corp. soared -- CSR by 16.5 percent and China CNR by 16.0 percent -- extending gains on December 31 after they announced a merger agreement.China´s manufacturing growth dropped in December to its lowest level of 2014, an official survey showed Thursday, as the sector struggles with weak domestic demand.China´s official Purchasing Managers´ Index (PMI) released by the National Bureau of Statistics (NBS) came in at 50.1 last month, down from 50.3 recorded in November.The index, which tracks activity in factories and workshops, is considered a key indicator of the health of China´s economy, a major driver of global growth. A figure above 50 signals expansion, while anything below indicates contraction.\"Growth momentum is still insufficient,\" NBS said in a statement. - Investors eye US factory data -On forex markets the dollar extended gains ahead of the release of American factory data due later on Friday and following a steady stream of good news from the world´s biggest economy.The dollar bought 120.44 yen, compared to 119.44 yen in final 2014 trading on Wednesday.Wall Street toasted a banner year in 2014, with US equity markets finishing near all-time highs.The euro meanwhile slipped amid growing expectations that the European Central Bank, which meets on January 22, will start buying sovereign bonds. The single currency bought $1.2061 compared to $1.2160 in pre-holiday trade.The ECB has already used several tools to push inflation in member nations back up to the 2.0 percent annual rate it regards as healthy, including asset purchases and making cheap loans available to banks.It is also examining the possibility of large-scale purchases of sovereign debt -- so-called quantitative easing (QE) -- to help jump-start the European Union´s moribund economy.Oil prices rose on Friday, with US benchmark West Texas Intermediate for February delivery rising 44 cents to $54.07 and Brent crude for February gaining 18 cents to $57.51.\"The gains in Asian trading are likely because of the positive US crude stockpiles data released on Wednesday,\" Daniel Ang, investment analyst at Phillip Futures in Singapore, told AFP.US crude reserves fell by 1.8 million barrels in the week to December 26, the US Energy Information Administration said in its last petroleum report for 2014 released on Wednesday, boosting prices that lost nearly half their value in the second half of the year.There is growing speculation that the slide in global oil prices -- the biggest since the financial crisis in 2008 -- may have been excessive.\"If we do see some supply-side responses, or even if they´re anticipated over the course of this first quarter of the year, we might find that oil has in fact bottomed,\" Michael McCarthy, a chief strategist at CMC Markets in Sydney, told Bloomberg.Gold was at $1,182.36 an ounce, compared with $1,199.00 in end-of-year trading on Wednesday.In other markets:-- Jakarta ended up 0.30 percent, or 15.82 points, at 5,242.77.Coal firm Indo Tambangraya Megah gained 3.41 percent to 15,900 rupiah, while miner Aneka Tambang slipped 1.88 percent to 1,045 rupiah.-- Malaysia´s main stock index shed 0.48 percent, or 8.48 points, to close at 1,752.77.Malayan Banking lost 0.55 percent to 9.12 ringgit, Public Bank slipped 0.44 percent to 18.22 while Top Globe added 1.77 percent 4.60 ringgit.-- Singapore rose 0.16 percent, or 5.44 points, to 3,370.59.Agribusiness company Wilmar International gained 0.93 percent to Sg$3.27 while real estate developer Capitaland dipped 0.30 percent to Sg$3.30.-- Mumbai gained 1.38 percent, or 380.36 points, to end at 27,887.90.Housing Development Finance Corp rose 4.30 percent to 1,171.80 rupees, while Mahindra & Mahindra fell 0.92 percent to 1,224.80 rupees. (AFP)                        \\n\\n\\n\\n\\n\\n\\n\\n\\n\\n\\n'"
      ]
     },
     "execution_count": 23,
     "metadata": {},
     "output_type": "execute_result"
    }
   ],
   "source": [
    "articles['Article'][1]"
   ]
  },
  {
   "cell_type": "code",
   "execution_count": 24,
   "id": "1cf8d2c7-8f93-48e5-857d-d4bc92581dfd",
   "metadata": {},
   "outputs": [
    {
     "data": {
      "text/plain": [
       "{'ids': [['id2', 'id38']],\n",
       " 'embeddings': None,\n",
       " 'documents': [['HONG KONG: Asian markets started 2015 on an upswing in limited trading on Friday, with mainland Chinese stocks surging in Hong Kong on speculation Beijing may ease monetary policy to boost slowing growth.Hong Kong rose 1.07 percent, closing 252.78 points higher at 23857.82.Seoul closed up 0.57 percent, rising 10.85 points to 1,926.44, while Sydney gained 0.46 percent, or 24.89 points, to close at 5,435.9.Singapore edged up 0.19 percent, gaining 6.39 points to 3,371.54.Markets in mainland China, Japan, Taiwan, New Zealand, the Philippines, and Thailand remained closed for holidays.With mainland bourses shut until January 5, shares in Chinese developers and financial companies surged in Hong Kong, stoked by hopes that Beijing could ease monetary policy to support lagging growth in the world´s second-largest economy.China Vanke, the country´s biggest developer by sales, leapt 10.8 percent and the People´s Insurance Company (Group) of China Ltd. was up 5.51 percent in afternoon trading.Train-builders CSR Corp. and China CNR Corp. soared -- CSR by 16.5 percent and China CNR by 16.0 percent -- extending gains on December 31 after they announced a merger agreement.China´s manufacturing growth dropped in December to its lowest level of 2014, an official survey showed Thursday, as the sector struggles with weak domestic demand.China´s official Purchasing Managers´ Index (PMI) released by the National Bureau of Statistics (NBS) came in at 50.1 last month, down from 50.3 recorded in November.The index, which tracks activity in factories and workshops, is considered a key indicator of the health of China´s economy, a major driver of global growth. A figure above 50 signals expansion, while anything below indicates contraction.\"Growth momentum is still insufficient,\" NBS said in a statement. - Investors eye US factory data -On forex markets the dollar extended gains ahead of the release of American factory data due later on Friday and following a steady stream of good news from the world´s biggest economy.The dollar bought 120.44 yen, compared to 119.44 yen in final 2014 trading on Wednesday.Wall Street toasted a banner year in 2014, with US equity markets finishing near all-time highs.The euro meanwhile slipped amid growing expectations that the European Central Bank, which meets on January 22, will start buying sovereign bonds. The single currency bought $1.2061 compared to $1.2160 in pre-holiday trade.The ECB has already used several tools to push inflation in member nations back up to the 2.0 percent annual rate it regards as healthy, including asset purchases and making cheap loans available to banks.It is also examining the possibility of large-scale purchases of sovereign debt -- so-called quantitative easing (QE) -- to help jump-start the European Union´s moribund economy.Oil prices rose on Friday, with US benchmark West Texas Intermediate for February delivery rising 44 cents to $54.07 and Brent crude for February gaining 18 cents to $57.51.\"The gains in Asian trading are likely because of the positive US crude stockpiles data released on Wednesday,\" Daniel Ang, investment analyst at Phillip Futures in Singapore, told AFP.US crude reserves fell by 1.8 million barrels in the week to December 26, the US Energy Information Administration said in its last petroleum report for 2014 released on Wednesday, boosting prices that lost nearly half their value in the second half of the year.There is growing speculation that the slide in global oil prices -- the biggest since the financial crisis in 2008 -- may have been excessive.\"If we do see some supply-side responses, or even if they´re anticipated over the course of this first quarter of the year, we might find that oil has in fact bottomed,\" Michael McCarthy, a chief strategist at CMC Markets in Sydney, told Bloomberg.Gold was at $1,182.36 an ounce, compared with $1,199.00 in end-of-year trading on Wednesday.In other markets:-- Jakarta ended up 0.30 percent, or 15.82 points, at 5,242.77.Coal firm Indo Tambangraya Megah gained 3.41 percent to 15,900 rupiah, while miner Aneka Tambang slipped 1.88 percent to 1,045 rupiah.-- Malaysia´s main stock index shed 0.48 percent, or 8.48 points, to close at 1,752.77.Malayan Banking lost 0.55 percent to 9.12 ringgit, Public Bank slipped 0.44 percent to 18.22 while Top Globe added 1.77 percent 4.60 ringgit.-- Singapore rose 0.16 percent, or 5.44 points, to 3,370.59.Agribusiness company Wilmar International gained 0.93 percent to Sg$3.27 while real estate developer Capitaland dipped 0.30 percent to Sg$3.30.-- Mumbai gained 1.38 percent, or 380.36 points, to end at 27,887.90.Housing Development Finance Corp rose 4.30 percent to 1,171.80 rupees, while Mahindra & Mahindra fell 0.92 percent to 1,224.80 rupees. (AFP)                        \\n\\n\\n\\n\\n\\n\\n\\n\\n\\n\\n',\n",
       "   'TOKYO: Tokyo stocks opened 1.09 percent higher on Friday, with investor sentiment supported by sharp gains on Wall Street and assurances that Greek banks will get liquidity funding.The Nikkei 225 index at the Tokyo Stock Exchange gained 191.56 points to 17,696.18 at the start.The Dow Jones Industrial Average jumped 1.20 percent Thursday on surging oil prices and merger activity by Pfizer.The euro rebounded as emergency funding was promised for Greek banks.The common European currency bought $1.1472 and 134.83 yen early Friday, compared with $1.1475 and 134.89 yen in New York Thursday afternoon.The euro plunged on Wednesday after the European Central Bank said it would not longer allow Greek banks to use government debt as collateral for loans.But on Thursday assurances that the banks could still tap the ECB´s emergency liquidity assistance programme helped quell fears of an immediate banking crisis.The access should help protect them against a possible run by depositors while Athens seeks to renegotiate its international bailout with creditors.The dollar was at 117.51 yen against 117.55 yen in US trade Thursday as investors waited for a key US jobs report to be released later Friday. \\n\\n\\n\\n\\n\\n\\n\\n\\n\\n\\n']],\n",
       " 'uris': None,\n",
       " 'data': None,\n",
       " 'metadatas': [[None, None]],\n",
       " 'distances': [[0.22180068492889404, 0.3170970380306244]],\n",
       " 'included': [<IncludeEnum.distances: 'distances'>,\n",
       "  <IncludeEnum.documents: 'documents'>,\n",
       "  <IncludeEnum.metadatas: 'metadatas'>]}"
      ]
     },
     "execution_count": 24,
     "metadata": {},
     "output_type": "execute_result"
    }
   ],
   "source": [
    "query='Asian markets started 2015 on an upswing in limited trading on Friday,'\n",
    "query_embeddings=openai_ef([query])\n",
    "collection.query(\n",
    "    query_embeddings=query_embeddings,\n",
    "    n_results=2\n",
    "    \n",
    ")"
   ]
  },
  {
   "cell_type": "code",
   "execution_count": 25,
   "id": "61fcd173-082b-4d1b-a7cb-aec22af47bd9",
   "metadata": {},
   "outputs": [
    {
     "data": {
      "text/plain": [
       "'KARACHI: The Sindh government has decided to bring down public transport fares by 7 per cent due to massive reduction in petroleum product prices by the federal government, Geo News reported.Sources said reduction in fares will be applicable on public transport, rickshaw, taxi and other means of traveling.Meanwhile, Karachi Transport Ittehad (KTI) has refused to abide by the government decision.KTI President Irshad Bukhari said the commuters are charged the lowest fares in Karachi as compare to other parts of the country, adding that 80pc vehicles run on Compressed Natural Gas (CNG). Bukhari said Karachi transporters will cut fares when decrease in CNG prices will be made.                        \\n\\n\\n\\n\\n\\n\\n\\n\\n\\n\\n'"
      ]
     },
     "execution_count": 25,
     "metadata": {},
     "output_type": "execute_result"
    }
   ],
   "source": [
    "articles['Article'][0]"
   ]
  },
  {
   "cell_type": "code",
   "execution_count": 26,
   "id": "862c4d10-5044-4f46-bca9-be317f923039",
   "metadata": {},
   "outputs": [
    {
     "data": {
      "text/plain": [
       "{'ids': [['id24']],\n",
       " 'embeddings': None,\n",
       " 'documents': [['ISLAMABAD: In a move to give relief to consumers, sources in the Finance Ministry said on Tuesday that the price of petrol and petroleum products are expected to decrease further from February 1.According to sources, the price of petrol is expected to be slashed by Rs 10 per litre, High Speed Diesel by Rs 8.50 per litre, Light Diesel by Rs 11 per litre, HOBC by Rs 14 per litre, and Kerosene by Rs 12 per litre.Global crude oil prices have fallen by 50 percent since June 2014, and to provide consistent relief to consumers, the Pakistan government has decreased the price of petrol by Rs 29 since the last four months and brought the price of Diesel down by Rs 23 in the same time frame.Fuel crisis in the country began last week when Pakistan State Oil (PSO) was forced to slash imports because banks refused to extend any more credit to the government-owned company, which supplies 80 percent of the country´s oil.The shortfall led to long queues of angry motorists at petrol stations, though these have since dissipated as fuel supplies have reached the pumps. \\n\\n\\n\\n\\n\\n\\n\\n\\n\\n\\n']],\n",
       " 'uris': None,\n",
       " 'data': None,\n",
       " 'metadatas': [[None]],\n",
       " 'distances': [[0.25763651728630066]],\n",
       " 'included': [<IncludeEnum.distances: 'distances'>,\n",
       "  <IncludeEnum.documents: 'documents'>,\n",
       "  <IncludeEnum.metadatas: 'metadatas'>]}"
      ]
     },
     "execution_count": 26,
     "metadata": {},
     "output_type": "execute_result"
    }
   ],
   "source": [
    "query='what is the deal with price of petrol'\n",
    "query_embeddings=openai_ef([query])\n",
    "collection.query(\n",
    "    query_embeddings=query_embeddings,\n",
    "    n_results=1\n",
    "    \n",
    ")"
   ]
  }
 ],
 "metadata": {
  "kernelspec": {
   "display_name": "Python (testing1)",
   "language": "python",
   "name": "testing1"
  },
  "language_info": {
   "codemirror_mode": {
    "name": "ipython",
    "version": 3
   },
   "file_extension": ".py",
   "mimetype": "text/x-python",
   "name": "python",
   "nbconvert_exporter": "python",
   "pygments_lexer": "ipython3",
   "version": "3.13.2"
  }
 },
 "nbformat": 4,
 "nbformat_minor": 5
}
