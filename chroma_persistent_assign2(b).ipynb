{
 "cells": [
  {
   "cell_type": "code",
   "execution_count": 2,
   "id": "c26acc81-75ae-477f-bce2-6b489df32523",
   "metadata": {},
   "outputs": [],
   "source": [
    "import chromadb\n",
    "import polars as pl\n",
    "import openai\n",
    "import chromadb.utils.embedding_functions as embedding_functions\n",
    "import os"
   ]
  },
  {
   "cell_type": "code",
   "execution_count": 3,
   "id": "1e7c0f57-2c79-462f-aefa-dc24b03c5bb6",
   "metadata": {},
   "outputs": [
    {
     "name": "stdout",
     "output_type": "stream",
     "text": [
      "shape: (5, 5)\n",
      "┌───────┬──────────────────────┬──────────┬─────────────────────┬──────────┐\n",
      "│ index ┆ Article              ┆ Date     ┆ Heading             ┆ NewsType │\n",
      "│ ---   ┆ ---                  ┆ ---      ┆ ---                 ┆ ---      │\n",
      "│ u32   ┆ str                  ┆ str      ┆ str                 ┆ str      │\n",
      "╞═══════╪══════════════════════╪══════════╪═════════════════════╪══════════╡\n",
      "│ 1     ┆ KARACHI: The Sindh   ┆ 1/1/2015 ┆ sindh govt decides  ┆ business │\n",
      "│       ┆ government …         ┆          ┆ to cut publ…        ┆          │\n",
      "│ 2     ┆ HONG KONG: Asian     ┆ 1/2/2015 ┆ asia stocks up in   ┆ business │\n",
      "│       ┆ markets start…       ┆          ┆ new year tra…       ┆          │\n",
      "│ 3     ┆ HONG KONG:  Hong     ┆ 1/5/2015 ┆ hong kong stocks    ┆ business │\n",
      "│       ┆ Kong shares o…       ┆          ┆ open 0.66 per…      ┆          │\n",
      "│ 4     ┆ HONG KONG: Asian     ┆ 1/6/2015 ┆ asian stocks sink   ┆ business │\n",
      "│       ┆ markets tumbl…       ┆          ┆ euro near ni…       ┆          │\n",
      "│ 5     ┆ NEW YORK: US oil     ┆ 1/6/2015 ┆ us oil prices slip  ┆ business │\n",
      "│       ┆ prices Monday…       ┆          ┆ below 50 a …        ┆          │\n",
      "└───────┴──────────────────────┴──────────┴─────────────────────┴──────────┘\n"
     ]
    }
   ],
   "source": [
    "articles = pl.read_csv('Articles.csv', encoding='ISO-8859-1').with_row_index(offset=1)\n",
    "print(articles.head())"
   ]
  },
  {
   "cell_type": "code",
   "execution_count": 4,
   "id": "5fd86471-a559-4197-ae8b-6b51a8a7e521",
   "metadata": {},
   "outputs": [],
   "source": [
    "client = chromadb.PersistentClient(path='./persistentdb')\n"
   ]
  },
  {
   "cell_type": "code",
   "execution_count": 5,
   "id": "64bfd660-3b30-4153-bb79-6982b3413fbb",
   "metadata": {},
   "outputs": [],
   "source": [
    "collection = client.get_or_create_collection(name=\"articles\")\n"
   ]
  },
  {
   "cell_type": "code",
   "execution_count": 6,
   "id": "623035a8-573a-4120-a38d-90653c43082f",
   "metadata": {},
   "outputs": [],
   "source": [
    "import chromadb.utils.embedding_functions as embedding_functions\n",
    "openai_ef=embedding_functions.OpenAIEmbeddingFunction(\n",
    "    api_key=os.getenv(\"API_KEY\"),\n",
    "    model_name=\"text-embedding-ada-002\"\n",
    ")"
   ]
  },
  {
   "cell_type": "code",
   "execution_count": 7,
   "id": "c04bf14c-a7fb-415b-b430-ed0eea8e5801",
   "metadata": {},
   "outputs": [
    {
     "data": {
      "text/html": [
       "<div><style>\n",
       ".dataframe > thead > tr,\n",
       ".dataframe > tbody > tr {\n",
       "  text-align: right;\n",
       "  white-space: pre-wrap;\n",
       "}\n",
       "</style>\n",
       "<small>shape: (2_692, 5)</small><table border=\"1\" class=\"dataframe\"><thead><tr><th>index</th><th>Article</th><th>Date</th><th>Heading</th><th>NewsType</th></tr><tr><td>u32</td><td>str</td><td>str</td><td>str</td><td>str</td></tr></thead><tbody><tr><td>1</td><td>&quot;KARACHI: The Sindh government …</td><td>&quot;1/1/2015&quot;</td><td>&quot;sindh govt decides to cut publ…</td><td>&quot;business&quot;</td></tr><tr><td>2</td><td>&quot;HONG KONG: Asian markets start…</td><td>&quot;1/2/2015&quot;</td><td>&quot;asia stocks up in new year tra…</td><td>&quot;business&quot;</td></tr><tr><td>3</td><td>&quot;HONG KONG:&nbsp;&nbsp;Hong Kong shares o…</td><td>&quot;1/5/2015&quot;</td><td>&quot;hong kong stocks open 0.66 per…</td><td>&quot;business&quot;</td></tr><tr><td>4</td><td>&quot;HONG KONG: Asian markets tumbl…</td><td>&quot;1/6/2015&quot;</td><td>&quot;asian stocks sink euro near ni…</td><td>&quot;business&quot;</td></tr><tr><td>5</td><td>&quot;NEW YORK: US oil prices Monday…</td><td>&quot;1/6/2015&quot;</td><td>&quot;us oil prices slip below 50 a …</td><td>&quot;business&quot;</td></tr><tr><td>&hellip;</td><td>&hellip;</td><td>&hellip;</td><td>&hellip;</td><td>&hellip;</td></tr><tr><td>2688</td><td>&quot;strong&gt;DUBAI: Dubai Internatio…</td><td>&quot;3/25/2017&quot;</td><td>&quot;Laptop ban hits Dubai for 11m …</td><td>&quot;business&quot;</td></tr><tr><td>2689</td><td>&quot;strong&gt;BEIJING: Former Prime M…</td><td>&quot;3/26/2017&quot;</td><td>&quot;Pak China relations not agains…</td><td>&quot;business&quot;</td></tr><tr><td>2690</td><td>&quot;strong&gt;WASHINGTON: Uber has gr…</td><td>&quot;3/26/2017&quot;</td><td>&quot;Uber grounds self driving cars…</td><td>&quot;business&quot;</td></tr><tr><td>2691</td><td>&quot;strong&gt;BEIJING: The New Develo…</td><td>&quot;3/27/2017&quot;</td><td>&quot;New Development Bank plans joi…</td><td>&quot;business&quot;</td></tr><tr><td>2692</td><td>&quot;strong&gt;KARACHI: Karachi-based …</td><td>&quot;3/27/2017&quot;</td><td>&quot;Google powered Startup Weekend…</td><td>&quot;business&quot;</td></tr></tbody></table></div>"
      ],
      "text/plain": [
       "shape: (2_692, 5)\n",
       "┌───────┬─────────────────────┬───────────┬─────────────────────┬──────────┐\n",
       "│ index ┆ Article             ┆ Date      ┆ Heading             ┆ NewsType │\n",
       "│ ---   ┆ ---                 ┆ ---       ┆ ---                 ┆ ---      │\n",
       "│ u32   ┆ str                 ┆ str       ┆ str                 ┆ str      │\n",
       "╞═══════╪═════════════════════╪═══════════╪═════════════════════╪══════════╡\n",
       "│ 1     ┆ KARACHI: The Sindh  ┆ 1/1/2015  ┆ sindh govt decides  ┆ business │\n",
       "│       ┆ government …        ┆           ┆ to cut publ…        ┆          │\n",
       "│ 2     ┆ HONG KONG: Asian    ┆ 1/2/2015  ┆ asia stocks up in   ┆ business │\n",
       "│       ┆ markets start…      ┆           ┆ new year tra…       ┆          │\n",
       "│ 3     ┆ HONG KONG:  Hong    ┆ 1/5/2015  ┆ hong kong stocks    ┆ business │\n",
       "│       ┆ Kong shares o…      ┆           ┆ open 0.66 per…      ┆          │\n",
       "│ 4     ┆ HONG KONG: Asian    ┆ 1/6/2015  ┆ asian stocks sink   ┆ business │\n",
       "│       ┆ markets tumbl…      ┆           ┆ euro near ni…       ┆          │\n",
       "│ 5     ┆ NEW YORK: US oil    ┆ 1/6/2015  ┆ us oil prices slip  ┆ business │\n",
       "│       ┆ prices Monday…      ┆           ┆ below 50 a …        ┆          │\n",
       "│ …     ┆ …                   ┆ …         ┆ …                   ┆ …        │\n",
       "│ 2688  ┆ strong>DUBAI: Dubai ┆ 3/25/2017 ┆ Laptop ban hits     ┆ business │\n",
       "│       ┆ Internatio…         ┆           ┆ Dubai for 11m …     ┆          │\n",
       "│ 2689  ┆ strong>BEIJING:     ┆ 3/26/2017 ┆ Pak China relations ┆ business │\n",
       "│       ┆ Former Prime M…     ┆           ┆ not agains…         ┆          │\n",
       "│ 2690  ┆ strong>WASHINGTON:  ┆ 3/26/2017 ┆ Uber grounds self   ┆ business │\n",
       "│       ┆ Uber has gr…        ┆           ┆ driving cars…       ┆          │\n",
       "│ 2691  ┆ strong>BEIJING: The ┆ 3/27/2017 ┆ New Development     ┆ business │\n",
       "│       ┆ New Develo…         ┆           ┆ Bank plans joi…     ┆          │\n",
       "│ 2692  ┆ strong>KARACHI:     ┆ 3/27/2017 ┆ Google powered      ┆ business │\n",
       "│       ┆ Karachi-based …     ┆           ┆ Startup Weekend…    ┆          │\n",
       "└───────┴─────────────────────┴───────────┴─────────────────────┴──────────┘"
      ]
     },
     "execution_count": 7,
     "metadata": {},
     "output_type": "execute_result"
    }
   ],
   "source": [
    "articles"
   ]
  },
  {
   "cell_type": "code",
   "execution_count": 8,
   "id": "db902b20-dc05-4cdd-b29f-ca4b38ddf5ff",
   "metadata": {},
   "outputs": [],
   "source": [
    "articles=articles[:50]"
   ]
  },
  {
   "cell_type": "code",
   "execution_count": 9,
   "id": "7b42b205-3a40-46fa-a4d9-df673bbe676f",
   "metadata": {},
   "outputs": [
    {
     "data": {
      "text/html": [
       "<div><style>\n",
       ".dataframe > thead > tr,\n",
       ".dataframe > tbody > tr {\n",
       "  text-align: right;\n",
       "  white-space: pre-wrap;\n",
       "}\n",
       "</style>\n",
       "<small>shape: (50, 5)</small><table border=\"1\" class=\"dataframe\"><thead><tr><th>index</th><th>Article</th><th>Date</th><th>Heading</th><th>NewsType</th></tr><tr><td>u32</td><td>str</td><td>str</td><td>str</td><td>str</td></tr></thead><tbody><tr><td>1</td><td>&quot;KARACHI: The Sindh government …</td><td>&quot;1/1/2015&quot;</td><td>&quot;sindh govt decides to cut publ…</td><td>&quot;business&quot;</td></tr><tr><td>2</td><td>&quot;HONG KONG: Asian markets start…</td><td>&quot;1/2/2015&quot;</td><td>&quot;asia stocks up in new year tra…</td><td>&quot;business&quot;</td></tr><tr><td>3</td><td>&quot;HONG KONG:&nbsp;&nbsp;Hong Kong shares o…</td><td>&quot;1/5/2015&quot;</td><td>&quot;hong kong stocks open 0.66 per…</td><td>&quot;business&quot;</td></tr><tr><td>4</td><td>&quot;HONG KONG: Asian markets tumbl…</td><td>&quot;1/6/2015&quot;</td><td>&quot;asian stocks sink euro near ni…</td><td>&quot;business&quot;</td></tr><tr><td>5</td><td>&quot;NEW YORK: US oil prices Monday…</td><td>&quot;1/6/2015&quot;</td><td>&quot;us oil prices slip below 50 a …</td><td>&quot;business&quot;</td></tr><tr><td>&hellip;</td><td>&hellip;</td><td>&hellip;</td><td>&hellip;</td><td>&hellip;</td></tr><tr><td>46</td><td>&quot;Karachi: Microsoft Devices Pak…</td><td>&quot;2/12/2015&quot;</td><td>&quot;nokia 215 dual sim launched in…</td><td>&quot;business&quot;</td></tr><tr><td>47</td><td>&quot;ISLAMABAD: Federal Finance Min…</td><td>&quot;2/12/2015&quot;</td><td>&quot;cnic number now tax number onl…</td><td>&quot;business&quot;</td></tr><tr><td>48</td><td>&quot;ISLAMABAD: Government has put …</td><td>&quot;2/12/2015&quot;</td><td>&quot;govt imposes new taxes of rs4 …</td><td>&quot;business&quot;</td></tr><tr><td>49</td><td>&quot;Singapore: Oil prices edged hi…</td><td>&quot;2/12/2015&quot;</td><td>&quot;oil prices rise in asian trad&quot;</td><td>&quot;business&quot;</td></tr><tr><td>50</td><td>&quot;London: World oil prices rose …</td><td>&quot;2/13/2015&quot;</td><td>&quot;oil prices extend gai&quot;</td><td>&quot;business&quot;</td></tr></tbody></table></div>"
      ],
      "text/plain": [
       "shape: (50, 5)\n",
       "┌───────┬─────────────────────┬───────────┬─────────────────────┬──────────┐\n",
       "│ index ┆ Article             ┆ Date      ┆ Heading             ┆ NewsType │\n",
       "│ ---   ┆ ---                 ┆ ---       ┆ ---                 ┆ ---      │\n",
       "│ u32   ┆ str                 ┆ str       ┆ str                 ┆ str      │\n",
       "╞═══════╪═════════════════════╪═══════════╪═════════════════════╪══════════╡\n",
       "│ 1     ┆ KARACHI: The Sindh  ┆ 1/1/2015  ┆ sindh govt decides  ┆ business │\n",
       "│       ┆ government …        ┆           ┆ to cut publ…        ┆          │\n",
       "│ 2     ┆ HONG KONG: Asian    ┆ 1/2/2015  ┆ asia stocks up in   ┆ business │\n",
       "│       ┆ markets start…      ┆           ┆ new year tra…       ┆          │\n",
       "│ 3     ┆ HONG KONG:  Hong    ┆ 1/5/2015  ┆ hong kong stocks    ┆ business │\n",
       "│       ┆ Kong shares o…      ┆           ┆ open 0.66 per…      ┆          │\n",
       "│ 4     ┆ HONG KONG: Asian    ┆ 1/6/2015  ┆ asian stocks sink   ┆ business │\n",
       "│       ┆ markets tumbl…      ┆           ┆ euro near ni…       ┆          │\n",
       "│ 5     ┆ NEW YORK: US oil    ┆ 1/6/2015  ┆ us oil prices slip  ┆ business │\n",
       "│       ┆ prices Monday…      ┆           ┆ below 50 a …        ┆          │\n",
       "│ …     ┆ …                   ┆ …         ┆ …                   ┆ …        │\n",
       "│ 46    ┆ Karachi: Microsoft  ┆ 2/12/2015 ┆ nokia 215 dual sim  ┆ business │\n",
       "│       ┆ Devices Pak…        ┆           ┆ launched in…        ┆          │\n",
       "│ 47    ┆ ISLAMABAD: Federal  ┆ 2/12/2015 ┆ cnic number now tax ┆ business │\n",
       "│       ┆ Finance Min…        ┆           ┆ number onl…         ┆          │\n",
       "│ 48    ┆ ISLAMABAD:          ┆ 2/12/2015 ┆ govt imposes new    ┆ business │\n",
       "│       ┆ Government has put  ┆           ┆ taxes of rs4 …      ┆          │\n",
       "│       ┆ …                   ┆           ┆                     ┆          │\n",
       "│ 49    ┆ Singapore: Oil      ┆ 2/12/2015 ┆ oil prices rise in  ┆ business │\n",
       "│       ┆ prices edged hi…    ┆           ┆ asian trad          ┆          │\n",
       "│ 50    ┆ London: World oil   ┆ 2/13/2015 ┆ oil prices extend   ┆ business │\n",
       "│       ┆ prices rose …       ┆           ┆ gai                 ┆          │\n",
       "└───────┴─────────────────────┴───────────┴─────────────────────┴──────────┘"
      ]
     },
     "execution_count": 9,
     "metadata": {},
     "output_type": "execute_result"
    }
   ],
   "source": [
    "articles"
   ]
  },
  {
   "cell_type": "code",
   "execution_count": 10,
   "id": "1677c32f-f17a-41a3-ad82-51531ef0b98d",
   "metadata": {},
   "outputs": [],
   "source": [
    "articles_list = articles['Article'].to_list()\n",
    "\n",
    "# Generate OpenAI embeddings\n",
    "vectors = openai_ef(articles_list)\n",
    "\n",
    "# Generate unique IDs for each article\n",
    "ids = [f\"id{x}\" for x in articles['index'].to_list()]"
   ]
  },
  {
   "cell_type": "code",
   "execution_count": 11,
   "id": "34157f1f-b6dd-4484-9ad8-43dd9030d100",
   "metadata": {},
   "outputs": [],
   "source": [
    "collection.upsert(\n",
    "    documents=articles_list,\n",
    "    ids=ids,\n",
    "    embeddings=vectors,\n",
    ")"
   ]
  },
  {
   "cell_type": "code",
   "execution_count": 12,
   "id": "e095d63a-07ad-4768-9451-c7eacd08b61a",
   "metadata": {},
   "outputs": [
    {
     "data": {
      "text/plain": [
       "'HONG KONG: Asian markets started 2015 on an upswing in limited trading on Friday, with mainland Chinese stocks surging in Hong Kong on speculation Beijing may ease monetary policy to boost slowing growth.Hong Kong rose 1.07 percent, closing 252.78 points higher at 23857.82.Seoul closed up 0.57 percent, rising 10.85 points to 1,926.44, while Sydney gained 0.46 percent, or 24.89 points, to close at 5,435.9.Singapore edged up 0.19 percent, gaining 6.39 points to 3,371.54.Markets in mainland China, Japan, Taiwan, New Zealand, the Philippines, and Thailand remained closed for holidays.With mainland bourses shut until January 5, shares in Chinese developers and financial companies surged in Hong Kong, stoked by hopes that Beijing could ease monetary policy to support lagging growth in the world´s second-largest economy.China Vanke, the country´s biggest developer by sales, leapt 10.8 percent and the People´s Insurance Company (Group) of China Ltd. was up 5.51 percent in afternoon trading.Train-builders CSR Corp. and China CNR Corp. soared -- CSR by 16.5 percent and China CNR by 16.0 percent -- extending gains on December 31 after they announced a merger agreement.China´s manufacturing growth dropped in December to its lowest level of 2014, an official survey showed Thursday, as the sector struggles with weak domestic demand.China´s official Purchasing Managers´ Index (PMI) released by the National Bureau of Statistics (NBS) came in at 50.1 last month, down from 50.3 recorded in November.The index, which tracks activity in factories and workshops, is considered a key indicator of the health of China´s economy, a major driver of global growth. A figure above 50 signals expansion, while anything below indicates contraction.\"Growth momentum is still insufficient,\" NBS said in a statement. - Investors eye US factory data -On forex markets the dollar extended gains ahead of the release of American factory data due later on Friday and following a steady stream of good news from the world´s biggest economy.The dollar bought 120.44 yen, compared to 119.44 yen in final 2014 trading on Wednesday.Wall Street toasted a banner year in 2014, with US equity markets finishing near all-time highs.The euro meanwhile slipped amid growing expectations that the European Central Bank, which meets on January 22, will start buying sovereign bonds. The single currency bought $1.2061 compared to $1.2160 in pre-holiday trade.The ECB has already used several tools to push inflation in member nations back up to the 2.0 percent annual rate it regards as healthy, including asset purchases and making cheap loans available to banks.It is also examining the possibility of large-scale purchases of sovereign debt -- so-called quantitative easing (QE) -- to help jump-start the European Union´s moribund economy.Oil prices rose on Friday, with US benchmark West Texas Intermediate for February delivery rising 44 cents to $54.07 and Brent crude for February gaining 18 cents to $57.51.\"The gains in Asian trading are likely because of the positive US crude stockpiles data released on Wednesday,\" Daniel Ang, investment analyst at Phillip Futures in Singapore, told AFP.US crude reserves fell by 1.8 million barrels in the week to December 26, the US Energy Information Administration said in its last petroleum report for 2014 released on Wednesday, boosting prices that lost nearly half their value in the second half of the year.There is growing speculation that the slide in global oil prices -- the biggest since the financial crisis in 2008 -- may have been excessive.\"If we do see some supply-side responses, or even if they´re anticipated over the course of this first quarter of the year, we might find that oil has in fact bottomed,\" Michael McCarthy, a chief strategist at CMC Markets in Sydney, told Bloomberg.Gold was at $1,182.36 an ounce, compared with $1,199.00 in end-of-year trading on Wednesday.In other markets:-- Jakarta ended up 0.30 percent, or 15.82 points, at 5,242.77.Coal firm Indo Tambangraya Megah gained 3.41 percent to 15,900 rupiah, while miner Aneka Tambang slipped 1.88 percent to 1,045 rupiah.-- Malaysia´s main stock index shed 0.48 percent, or 8.48 points, to close at 1,752.77.Malayan Banking lost 0.55 percent to 9.12 ringgit, Public Bank slipped 0.44 percent to 18.22 while Top Globe added 1.77 percent 4.60 ringgit.-- Singapore rose 0.16 percent, or 5.44 points, to 3,370.59.Agribusiness company Wilmar International gained 0.93 percent to Sg$3.27 while real estate developer Capitaland dipped 0.30 percent to Sg$3.30.-- Mumbai gained 1.38 percent, or 380.36 points, to end at 27,887.90.Housing Development Finance Corp rose 4.30 percent to 1,171.80 rupees, while Mahindra & Mahindra fell 0.92 percent to 1,224.80 rupees. (AFP)                        \\n\\n\\n\\n\\n\\n\\n\\n\\n\\n\\n'"
      ]
     },
     "execution_count": 12,
     "metadata": {},
     "output_type": "execute_result"
    }
   ],
   "source": [
    "articles['Article'][1]"
   ]
  },
  {
   "cell_type": "code",
   "execution_count": 13,
   "id": "6347b95d-2ce9-4286-bf62-f0e80ce791ef",
   "metadata": {},
   "outputs": [
    {
     "data": {
      "text/plain": [
       "{'ids': [['id2']],\n",
       " 'embeddings': None,\n",
       " 'documents': [['HONG KONG: Asian markets started 2015 on an upswing in limited trading on Friday, with mainland Chinese stocks surging in Hong Kong on speculation Beijing may ease monetary policy to boost slowing growth.Hong Kong rose 1.07 percent, closing 252.78 points higher at 23857.82.Seoul closed up 0.57 percent, rising 10.85 points to 1,926.44, while Sydney gained 0.46 percent, or 24.89 points, to close at 5,435.9.Singapore edged up 0.19 percent, gaining 6.39 points to 3,371.54.Markets in mainland China, Japan, Taiwan, New Zealand, the Philippines, and Thailand remained closed for holidays.With mainland bourses shut until January 5, shares in Chinese developers and financial companies surged in Hong Kong, stoked by hopes that Beijing could ease monetary policy to support lagging growth in the world´s second-largest economy.China Vanke, the country´s biggest developer by sales, leapt 10.8 percent and the People´s Insurance Company (Group) of China Ltd. was up 5.51 percent in afternoon trading.Train-builders CSR Corp. and China CNR Corp. soared -- CSR by 16.5 percent and China CNR by 16.0 percent -- extending gains on December 31 after they announced a merger agreement.China´s manufacturing growth dropped in December to its lowest level of 2014, an official survey showed Thursday, as the sector struggles with weak domestic demand.China´s official Purchasing Managers´ Index (PMI) released by the National Bureau of Statistics (NBS) came in at 50.1 last month, down from 50.3 recorded in November.The index, which tracks activity in factories and workshops, is considered a key indicator of the health of China´s economy, a major driver of global growth. A figure above 50 signals expansion, while anything below indicates contraction.\"Growth momentum is still insufficient,\" NBS said in a statement. - Investors eye US factory data -On forex markets the dollar extended gains ahead of the release of American factory data due later on Friday and following a steady stream of good news from the world´s biggest economy.The dollar bought 120.44 yen, compared to 119.44 yen in final 2014 trading on Wednesday.Wall Street toasted a banner year in 2014, with US equity markets finishing near all-time highs.The euro meanwhile slipped amid growing expectations that the European Central Bank, which meets on January 22, will start buying sovereign bonds. The single currency bought $1.2061 compared to $1.2160 in pre-holiday trade.The ECB has already used several tools to push inflation in member nations back up to the 2.0 percent annual rate it regards as healthy, including asset purchases and making cheap loans available to banks.It is also examining the possibility of large-scale purchases of sovereign debt -- so-called quantitative easing (QE) -- to help jump-start the European Union´s moribund economy.Oil prices rose on Friday, with US benchmark West Texas Intermediate for February delivery rising 44 cents to $54.07 and Brent crude for February gaining 18 cents to $57.51.\"The gains in Asian trading are likely because of the positive US crude stockpiles data released on Wednesday,\" Daniel Ang, investment analyst at Phillip Futures in Singapore, told AFP.US crude reserves fell by 1.8 million barrels in the week to December 26, the US Energy Information Administration said in its last petroleum report for 2014 released on Wednesday, boosting prices that lost nearly half their value in the second half of the year.There is growing speculation that the slide in global oil prices -- the biggest since the financial crisis in 2008 -- may have been excessive.\"If we do see some supply-side responses, or even if they´re anticipated over the course of this first quarter of the year, we might find that oil has in fact bottomed,\" Michael McCarthy, a chief strategist at CMC Markets in Sydney, told Bloomberg.Gold was at $1,182.36 an ounce, compared with $1,199.00 in end-of-year trading on Wednesday.In other markets:-- Jakarta ended up 0.30 percent, or 15.82 points, at 5,242.77.Coal firm Indo Tambangraya Megah gained 3.41 percent to 15,900 rupiah, while miner Aneka Tambang slipped 1.88 percent to 1,045 rupiah.-- Malaysia´s main stock index shed 0.48 percent, or 8.48 points, to close at 1,752.77.Malayan Banking lost 0.55 percent to 9.12 ringgit, Public Bank slipped 0.44 percent to 18.22 while Top Globe added 1.77 percent 4.60 ringgit.-- Singapore rose 0.16 percent, or 5.44 points, to 3,370.59.Agribusiness company Wilmar International gained 0.93 percent to Sg$3.27 while real estate developer Capitaland dipped 0.30 percent to Sg$3.30.-- Mumbai gained 1.38 percent, or 380.36 points, to end at 27,887.90.Housing Development Finance Corp rose 4.30 percent to 1,171.80 rupees, while Mahindra & Mahindra fell 0.92 percent to 1,224.80 rupees. (AFP)                        \\n\\n\\n\\n\\n\\n\\n\\n\\n\\n\\n']],\n",
       " 'uris': None,\n",
       " 'data': None,\n",
       " 'metadatas': [[None]],\n",
       " 'distances': [[0.1513139882593327]],\n",
       " 'included': [<IncludeEnum.distances: 'distances'>,\n",
       "  <IncludeEnum.documents: 'documents'>,\n",
       "  <IncludeEnum.metadatas: 'metadatas'>]}"
      ]
     },
     "execution_count": 13,
     "metadata": {},
     "output_type": "execute_result"
    }
   ],
   "source": [
    "query='HONG KONG: Asian markets started 2015 on an upswing in limited trading on Friday'\n",
    "query_embeddings=openai_ef([query])\n",
    "collection.query(\n",
    "    query_embeddings=query_embeddings,\n",
    "    n_results=1\n",
    "    \n",
    ")"
   ]
  },
  {
   "cell_type": "code",
   "execution_count": 14,
   "id": "fc4a587c-d2f3-4aa8-bd62-83f209f65d02",
   "metadata": {},
   "outputs": [
    {
     "data": {
      "text/plain": [
       "{'ids': [['id41', 'id27', 'id30']],\n",
       " 'embeddings': None,\n",
       " 'documents': [['LONDON: British bank HSBC Holdings Plc admitted on Sunday failings by its Swiss subsidiary, in response to media reports it helped wealthy customers dodge taxes and conceal millions of dollars of assets.\"We acknowledge and are accountable for past compliance and control failures,\" HSBC said on Sunday after news outlets including French newspaper Le Monde and Britain\\x92s The Guardian published allegations about its Swiss private bank. The Guardian, along with other news outlets, cited documents obtained by the International Consortium of Investigative Journalists (ICIJ) via Le Monde.HSBC said that its Swiss arm had not been fully integrated into HSBC after its purchase in 1999, allowing \"significantly lower\" standards of compliance and due diligence to persist.The Guardian alleged in its report that the files showed HSBC\\'s Swiss bank routinely allowed clients to withdraw \\x93bricks\\x94 of cash, often in foreign currencies which were of little use in Switzerland, marketed schemes which were likely to enable wealthy clients to avoid European taxes and colluded with some to conceal undeclared accounts from domestic tax authorities.HSBC said the Swiss private banking industry, long known for its secrecy, operated differently in the past and this may have resulted in HSBC having had \"a number of clients that may not have been fully compliant with their applicable tax obligations.\"Its private bank, especially its Swiss arm, had undergone \"a radical transformation\" in recent years, it said in a detailed four-page statement.HSBC\\'s Swiss private bank was largely acquired as part of its purchase of Republic National Bank of New York and Safra Republic Holdings, a US private bank.HSBC said the number of accounts in its Swiss private bank had fallen from 30,412 in 2007 to 10,343 at the end of last year and it was cooperating with authorities investigating tax matters.The data was supplied by Herve Falciani, a former IT employee of HSBC\\'s Swiss private bank. HSBC said Falciani downloaded details of accounts and clients at the end of 2006 and early 2007. French authorities have obtained data on thousands of the customers and shared them with tax authorities elsewhere, including Argentina.Switzerland has charged Falciani, who Reuters was unable to reach for comment, with industrial espionage and breaching the country\\'s secrecy laws. Falciani has previously told Reuters he is a whistleblower trying to help governments track down citizens who used Swiss accounts to evade tax.Some of the details of the list have been released before. The names of 2,000 Greeks with HSBC accounts was made public in 2010 and dubbed the \"Lagarde List\" after former French finance minister Christine Lagarde. France passed the names to Greece to help it crack down on tax evasion.                        \\n\\n\\n\\n\\n\\n\\n\\n\\n\\n\\n',\n",
       "   'KARACHI: State Bank of Pakistan (SBP) governor on Thursday urged the country´s Islamic banks to develop ways to reward their customers in line with a surge in the sector´s profitability, or face regulatory action. Islamic finance is experiencing a revival in Pakistan, aided by an ambitious five-year plan that regulators hope will double the industry´s share of the banking sector to 20 percent by 2020.A growing client base and improving asset quality helped Islamic banks post profits before tax of 12 billion rupees ($119.1 million) in the third quarter of last year, almost double the year-earlier amount, central bank data shows. But regulators want to tackle consumer perceptions that Islamic banks falter when it comes to social responsibility and ethical banking practices.The average financing-to-deposit spread - the difference between what banks charge for financing and what they pay their depositors - for all lenders, Islamic and conventional, remains high and should be \"reasonably rationalised\", central bank governor Ashraf Wathra said in a speech to a gathering of industry executives on Monday. He did not specify a satisfactory level, but singled out Islamic banks as the ones needing to reward customers in line with a rise in profits.\"Banks were advised to come up with their own solutions or the SBP will apply sharia-compliant measures to address the issue,\" said Wathra. He did not elaborate, but in the past the central bank has prescribed minimum targets for banks to lend to specific sectors of the economy such as agriculture and small business. Islamic banks follow religious principles which ban the charging of interest and gambling, and stress the sharing of risk and profits. The industry has developed a range of sharia-compliant financial tools, some with greater profit-sharing qualities than others. Islamic banks fall short when it comes to using strongly profit-sharing instruments such as musharaka, whose share of overall Islamic financing in Pakistan was only 10.1 percent as of September, compared to 4.2 percent a year earlier. Musharaka is a partnership in which two or more parties agree to provide capital, sharing both profits and losses according to a stipulated ratio. By contrast, murabaha - a cost-plus-profit arrangement where one party agrees to buy merchandise for another - commands the lion´s share of financing by the country´s Islamic banks, at 30.3 percent. Murabaha is often criticised for lacking economic substance and its resemblance to a conventional loan. \\n\\n\\n\\n\\n\\n\\n\\n\\n\\n\\n',\n",
       "   \"NEW YORK: US authorities are investigating the credit rating agency Moody's over its glowing assessments of mortgage deals in the runup to the 2008 financial crisis, The Wall Street Journal reported Sunday.Citing people familiar with the situation, the newspaper said Justice Department officials had met with several former Moody's executives. It wasn't yet clear if the probe would result in a lawsuit.If the investigation is confirmed, Moody's would become the second major US credit-rating firm in the Justice Department's crosshairs, after a case against Standard & Poor's.S&P is expected to within days agree to pay $1.37 billion to settle lawsuits over its rosy grading of mortgage bonds in the financial crisis, sources told AFP.Neither Moody's nor the Justice Department were immediately reachable for comment Sunday.US authorities are probing whether the firm compromised its standards to score deals, the Journal reported, and the focus is on residential mortgage deals from about 2004 to 2007.Positive ratings on what turned out to be extremely risky mortgage deals, known as subprime loans, were a main cause of the 2008 financial collapse.Investors rely on rating firms' grades to assess risk.Numerous banks have already paid huge fines and settlements for their roles in packaging and selling the bonds as low-risk, solid investments. \\n\\n\\n\\n\\n\\n\\n\\n\\n\\n\\n\"]],\n",
       " 'uris': None,\n",
       " 'data': None,\n",
       " 'metadatas': [[None, None, None]],\n",
       " 'distances': [[0.24648283673183474,\n",
       "   0.36988452200938743,\n",
       "   0.43202489174267406]],\n",
       " 'included': [<IncludeEnum.distances: 'distances'>,\n",
       "  <IncludeEnum.documents: 'documents'>,\n",
       "  <IncludeEnum.metadatas: 'metadatas'>]}"
      ]
     },
     "execution_count": 14,
     "metadata": {},
     "output_type": "execute_result"
    }
   ],
   "source": [
    "query='Its private bank, especially its Swiss arm, had undergone \"a radical transformation\" in recent years, '\n",
    "query_embeddings=openai_ef([query])\n",
    "collection.query(\n",
    "    query_embeddings=query_embeddings,\n",
    "    n_results=3\n",
    ")"
   ]
  },
  {
   "cell_type": "code",
   "execution_count": 15,
   "id": "f15616d8-b31b-41d6-bfb5-7b27eaf4d16c",
   "metadata": {},
   "outputs": [
    {
     "data": {
      "text/plain": [
       "{'ids': [['id24']],\n",
       " 'embeddings': None,\n",
       " 'documents': [['ISLAMABAD: In a move to give relief to consumers, sources in the Finance Ministry said on Tuesday that the price of petrol and petroleum products are expected to decrease further from February 1.According to sources, the price of petrol is expected to be slashed by Rs 10 per litre, High Speed Diesel by Rs 8.50 per litre, Light Diesel by Rs 11 per litre, HOBC by Rs 14 per litre, and Kerosene by Rs 12 per litre.Global crude oil prices have fallen by 50 percent since June 2014, and to provide consistent relief to consumers, the Pakistan government has decreased the price of petrol by Rs 29 since the last four months and brought the price of Diesel down by Rs 23 in the same time frame.Fuel crisis in the country began last week when Pakistan State Oil (PSO) was forced to slash imports because banks refused to extend any more credit to the government-owned company, which supplies 80 percent of the country´s oil.The shortfall led to long queues of angry motorists at petrol stations, though these have since dissipated as fuel supplies have reached the pumps. \\n\\n\\n\\n\\n\\n\\n\\n\\n\\n\\n']],\n",
       " 'uris': None,\n",
       " 'data': None,\n",
       " 'metadatas': [[None]],\n",
       " 'distances': [[0.25771109873691633]],\n",
       " 'included': [<IncludeEnum.distances: 'distances'>,\n",
       "  <IncludeEnum.documents: 'documents'>,\n",
       "  <IncludeEnum.metadatas: 'metadatas'>]}"
      ]
     },
     "execution_count": 15,
     "metadata": {},
     "output_type": "execute_result"
    }
   ],
   "source": [
    "query='what is the deal with price of petrol'\n",
    "query_embeddings=openai_ef([query])\n",
    "collection.query(\n",
    "    query_embeddings=query_embeddings,\n",
    "    n_results=1\n",
    "    \n",
    ")"
   ]
  },
  {
   "cell_type": "code",
   "execution_count": 16,
   "id": "3dc49239-726a-4515-9911-d23755835265",
   "metadata": {},
   "outputs": [
    {
     "data": {
      "text/plain": [
       "{'ids': [[]],\n",
       " 'embeddings': None,\n",
       " 'documents': [[]],\n",
       " 'uris': None,\n",
       " 'data': None,\n",
       " 'metadatas': [[]],\n",
       " 'distances': [[]],\n",
       " 'included': [<IncludeEnum.distances: 'distances'>,\n",
       "  <IncludeEnum.documents: 'documents'>,\n",
       "  <IncludeEnum.metadatas: 'metadatas'>]}"
      ]
     },
     "execution_count": 16,
     "metadata": {},
     "output_type": "execute_result"
    }
   ],
   "source": [
    "query='ISLAMABAD: In a move to give relief to consumers,'\n",
    "query_embeddings=openai_ef([query])\n",
    "collection.query(\n",
    "    query_embeddings=query_embeddings,\n",
    "    #n_results=1,\n",
    "    where={\"NewsType\":\"business\"}\n",
    ")"
   ]
  }
 ],
 "metadata": {
  "kernelspec": {
   "display_name": "Python 3 (ipykernel)",
   "language": "python",
   "name": "python3"
  },
  "language_info": {
   "codemirror_mode": {
    "name": "ipython",
    "version": 3
   },
   "file_extension": ".py",
   "mimetype": "text/x-python",
   "name": "python",
   "nbconvert_exporter": "python",
   "pygments_lexer": "ipython3",
   "version": "3.13.2"
  }
 },
 "nbformat": 4,
 "nbformat_minor": 5
}
